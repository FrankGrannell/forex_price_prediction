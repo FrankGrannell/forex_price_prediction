{
 "cells": [
  {
   "cell_type": "markdown",
   "id": "138fed84",
   "metadata": {},
   "source": [
    "# Iowa house price prediction\n",
    "### using DecisionTreeRegressor\n",
    "#### By Comparing Different Tree Sizes and chooing the right size"
   ]
  },
  {
   "cell_type": "code",
   "execution_count": 1,
   "id": "47f95f7e",
   "metadata": {},
   "outputs": [],
   "source": [
    "# Code you have previously used to load data\n",
    "import pandas as pd\n",
    "from sklearn.metrics import mean_absolute_error\n",
    "from sklearn.model_selection import train_test_split\n",
    "from sklearn.tree import DecisionTreeRegressor\n",
    "\n",
    "import datetime "
   ]
  },
  {
   "cell_type": "code",
   "execution_count": 2,
   "id": "2cb1a85e",
   "metadata": {},
   "outputs": [
    {
     "data": {
      "application/javascript": [
       "\n",
       "        if (window._pyforest_update_imports_cell) { window._pyforest_update_imports_cell('import os'); }\n",
       "    "
      ],
      "text/plain": [
       "<IPython.core.display.Javascript object>"
      ]
     },
     "metadata": {},
     "output_type": "display_data"
    }
   ],
   "source": [
    "# Path of the file to read\n",
    "subdirectory = \"data\"\n",
    "filename = \"forex_AUDCAD.csv\"\n",
    "\n",
    "# Construct the full file path\n",
    "file_path = os.path.join(subdirectory, filename)"
   ]
  },
  {
   "cell_type": "code",
   "execution_count": 3,
   "id": "de6ca9c8",
   "metadata": {},
   "outputs": [
    {
     "data": {
      "text/html": [
       "<div>\n",
       "<style scoped>\n",
       "    .dataframe tbody tr th:only-of-type {\n",
       "        vertical-align: middle;\n",
       "    }\n",
       "\n",
       "    .dataframe tbody tr th {\n",
       "        vertical-align: top;\n",
       "    }\n",
       "\n",
       "    .dataframe thead th {\n",
       "        text-align: right;\n",
       "    }\n",
       "</style>\n",
       "<table border=\"1\" class=\"dataframe\">\n",
       "  <thead>\n",
       "    <tr style=\"text-align: right;\">\n",
       "      <th></th>\n",
       "      <th>topen</th>\n",
       "      <th>theigh</th>\n",
       "      <th>tlow</th>\n",
       "      <th>tclose</th>\n",
       "      <th>tvolume</th>\n",
       "    </tr>\n",
       "  </thead>\n",
       "  <tbody>\n",
       "    <tr>\n",
       "      <th>count</th>\n",
       "      <td>5.737313e+06</td>\n",
       "      <td>5.737313e+06</td>\n",
       "      <td>5.737313e+06</td>\n",
       "      <td>5.737313e+06</td>\n",
       "      <td>5737313.0</td>\n",
       "    </tr>\n",
       "    <tr>\n",
       "      <th>mean</th>\n",
       "      <td>9.575396e-01</td>\n",
       "      <td>9.576482e-01</td>\n",
       "      <td>9.574305e-01</td>\n",
       "      <td>9.575389e-01</td>\n",
       "      <td>0.0</td>\n",
       "    </tr>\n",
       "    <tr>\n",
       "      <th>std</th>\n",
       "      <td>5.367333e-02</td>\n",
       "      <td>5.364885e-02</td>\n",
       "      <td>5.369731e-02</td>\n",
       "      <td>5.367285e-02</td>\n",
       "      <td>0.0</td>\n",
       "    </tr>\n",
       "    <tr>\n",
       "      <th>min</th>\n",
       "      <td>7.187000e-01</td>\n",
       "      <td>7.226000e-01</td>\n",
       "      <td>7.172000e-01</td>\n",
       "      <td>7.196000e-01</td>\n",
       "      <td>0.0</td>\n",
       "    </tr>\n",
       "    <tr>\n",
       "      <th>25%</th>\n",
       "      <td>9.217800e-01</td>\n",
       "      <td>9.218700e-01</td>\n",
       "      <td>9.216800e-01</td>\n",
       "      <td>9.217800e-01</td>\n",
       "      <td>0.0</td>\n",
       "    </tr>\n",
       "    <tr>\n",
       "      <th>50%</th>\n",
       "      <td>9.587800e-01</td>\n",
       "      <td>9.588700e-01</td>\n",
       "      <td>9.586800e-01</td>\n",
       "      <td>9.587800e-01</td>\n",
       "      <td>0.0</td>\n",
       "    </tr>\n",
       "    <tr>\n",
       "      <th>75%</th>\n",
       "      <td>9.962400e-01</td>\n",
       "      <td>9.963400e-01</td>\n",
       "      <td>9.961300e-01</td>\n",
       "      <td>9.962400e-01</td>\n",
       "      <td>0.0</td>\n",
       "    </tr>\n",
       "    <tr>\n",
       "      <th>max</th>\n",
       "      <td>1.078080e+00</td>\n",
       "      <td>1.078190e+00</td>\n",
       "      <td>1.078020e+00</td>\n",
       "      <td>1.078110e+00</td>\n",
       "      <td>0.0</td>\n",
       "    </tr>\n",
       "  </tbody>\n",
       "</table>\n",
       "</div>"
      ],
      "text/plain": [
       "              topen        theigh          tlow        tclose    tvolume\n",
       "count  5.737313e+06  5.737313e+06  5.737313e+06  5.737313e+06  5737313.0\n",
       "mean   9.575396e-01  9.576482e-01  9.574305e-01  9.575389e-01        0.0\n",
       "std    5.367333e-02  5.364885e-02  5.369731e-02  5.367285e-02        0.0\n",
       "min    7.187000e-01  7.226000e-01  7.172000e-01  7.196000e-01        0.0\n",
       "25%    9.217800e-01  9.218700e-01  9.216800e-01  9.217800e-01        0.0\n",
       "50%    9.587800e-01  9.588700e-01  9.586800e-01  9.587800e-01        0.0\n",
       "75%    9.962400e-01  9.963400e-01  9.961300e-01  9.962400e-01        0.0\n",
       "max    1.078080e+00  1.078190e+00  1.078020e+00  1.078110e+00        0.0"
      ]
     },
     "execution_count": 3,
     "metadata": {},
     "output_type": "execute_result"
    }
   ],
   "source": [
    "forex_data = pd.read_csv(file_path)\n",
    "forex_data.describe()"
   ]
  },
  {
   "cell_type": "code",
   "execution_count": 4,
   "id": "abd2bd1d",
   "metadata": {},
   "outputs": [],
   "source": [
    "# Convert the 'time_column' to minutes\n",
    "def convert_to_minutes(time_str):\n",
    "    hours, minutes = map(int, time_str.split(':'))\n",
    "    total_minutes = hours * 60 + minutes\n",
    "    return total_minutes"
   ]
  },
  {
   "cell_type": "code",
   "execution_count": 5,
   "id": "08c8d83c",
   "metadata": {},
   "outputs": [],
   "source": [
    "def get_mae(max_leaf_nodes, train_X, val_X, train_y, val_y):\n",
    "    model = DecisionTreeRegressor(max_leaf_nodes=max_leaf_nodes, random_state=0)\n",
    "    model.fit(train_X, train_y)\n",
    "    preds_val = model.predict(val_X)\n",
    "    mae = mean_absolute_error(val_y, preds_val)\n",
    "    return(mae)"
   ]
  },
  {
   "cell_type": "code",
   "execution_count": 6,
   "id": "59eb258a",
   "metadata": {},
   "outputs": [
    {
     "data": {
      "text/html": [
       "<div>\n",
       "<style scoped>\n",
       "    .dataframe tbody tr th:only-of-type {\n",
       "        vertical-align: middle;\n",
       "    }\n",
       "\n",
       "    .dataframe tbody tr th {\n",
       "        vertical-align: top;\n",
       "    }\n",
       "\n",
       "    .dataframe thead th {\n",
       "        text-align: right;\n",
       "    }\n",
       "</style>\n",
       "<table border=\"1\" class=\"dataframe\">\n",
       "  <thead>\n",
       "    <tr style=\"text-align: right;\">\n",
       "      <th></th>\n",
       "      <th>tick</th>\n",
       "      <th>tdate</th>\n",
       "      <th>ttime</th>\n",
       "      <th>topen</th>\n",
       "      <th>theigh</th>\n",
       "      <th>tlow</th>\n",
       "      <th>tclose</th>\n",
       "      <th>tvolume</th>\n",
       "      <th>nDate</th>\n",
       "      <th>nMinutes</th>\n",
       "    </tr>\n",
       "  </thead>\n",
       "  <tbody>\n",
       "    <tr>\n",
       "      <th>0</th>\n",
       "      <td>AUDCAD</td>\n",
       "      <td>2007-10-07</td>\n",
       "      <td>05:02</td>\n",
       "      <td>0.8822</td>\n",
       "      <td>0.8823</td>\n",
       "      <td>0.8822</td>\n",
       "      <td>0.8822</td>\n",
       "      <td>0</td>\n",
       "      <td>1</td>\n",
       "      <td>302</td>\n",
       "    </tr>\n",
       "    <tr>\n",
       "      <th>1</th>\n",
       "      <td>AUDCAD</td>\n",
       "      <td>2007-10-07</td>\n",
       "      <td>05:01</td>\n",
       "      <td>0.8822</td>\n",
       "      <td>0.8822</td>\n",
       "      <td>0.8822</td>\n",
       "      <td>0.8822</td>\n",
       "      <td>0</td>\n",
       "      <td>1</td>\n",
       "      <td>301</td>\n",
       "    </tr>\n",
       "    <tr>\n",
       "      <th>2</th>\n",
       "      <td>AUDCAD</td>\n",
       "      <td>2007-10-07</td>\n",
       "      <td>05:00</td>\n",
       "      <td>0.8823</td>\n",
       "      <td>0.8823</td>\n",
       "      <td>0.8823</td>\n",
       "      <td>0.8823</td>\n",
       "      <td>0</td>\n",
       "      <td>1</td>\n",
       "      <td>300</td>\n",
       "    </tr>\n",
       "    <tr>\n",
       "      <th>3</th>\n",
       "      <td>AUDCAD</td>\n",
       "      <td>2007-10-14</td>\n",
       "      <td>05:00</td>\n",
       "      <td>0.8799</td>\n",
       "      <td>0.8799</td>\n",
       "      <td>0.8799</td>\n",
       "      <td>0.8799</td>\n",
       "      <td>0</td>\n",
       "      <td>8</td>\n",
       "      <td>300</td>\n",
       "    </tr>\n",
       "    <tr>\n",
       "      <th>4</th>\n",
       "      <td>AUDCAD</td>\n",
       "      <td>2007-10-21</td>\n",
       "      <td>05:02</td>\n",
       "      <td>0.8595</td>\n",
       "      <td>0.8595</td>\n",
       "      <td>0.8594</td>\n",
       "      <td>0.8594</td>\n",
       "      <td>0</td>\n",
       "      <td>15</td>\n",
       "      <td>302</td>\n",
       "    </tr>\n",
       "  </tbody>\n",
       "</table>\n",
       "</div>"
      ],
      "text/plain": [
       "         tick      tdate  ttime   topen  theigh    tlow  tclose  tvolume  \\\n",
       "0  AUDCAD     2007-10-07  05:02  0.8822  0.8823  0.8822  0.8822        0   \n",
       "1  AUDCAD     2007-10-07  05:01  0.8822  0.8822  0.8822  0.8822        0   \n",
       "2  AUDCAD     2007-10-07  05:00  0.8823  0.8823  0.8823  0.8823        0   \n",
       "3  AUDCAD     2007-10-14  05:00  0.8799  0.8799  0.8799  0.8799        0   \n",
       "4  AUDCAD     2007-10-21  05:02  0.8595  0.8595  0.8594  0.8594        0   \n",
       "\n",
       "   nDate  nMinutes  \n",
       "0      1       302  \n",
       "1      1       301  \n",
       "2      1       300  \n",
       "3      8       300  \n",
       "4     15       302  "
      ]
     },
     "execution_count": 6,
     "metadata": {},
     "output_type": "execute_result"
    }
   ],
   "source": [
    "# Feature Engineering part\n",
    "## Create a new column with value number of days since the minimum days of the column\n",
    "## to make the use a dare column as a numeric value. Since Decision Tree gaven an error date columns.\n",
    "\n",
    "forex_data['tdate'] = pd.to_datetime(forex_data['tdate'])\n",
    "min_date = forex_data['tdate'].min()\n",
    "forex_data['nDate'] = (forex_data['tdate'] - min_date).dt.days +1 # +1 is because be dont want zero as a date difference\n",
    "\n",
    "forex_data['nMinutes'] = forex_data['ttime'].apply(convert_to_minutes)\n",
    "\n",
    "forex_data.head()"
   ]
  },
  {
   "cell_type": "code",
   "execution_count": 7,
   "id": "a40af81c",
   "metadata": {},
   "outputs": [],
   "source": [
    "#  >> 1. Split data in to features and target -------------------\n",
    "y = forex_data.tclose\n",
    "\n",
    "features = ['nDate','nMinutes','topen','theigh','tlow']\n",
    "X = forex_data[features]\n",
    "#  <<  1. Split data in to features and target -------------------\n",
    "\n",
    "\n",
    "#  >>  2. Split into validation and training data-----------------\n",
    "train_X, val_X, train_y, val_y = train_test_split(X, y, random_state=1)\n",
    "#  <<  2. Split into validation and training data-----------------"
   ]
  },
  {
   "cell_type": "code",
   "execution_count": 8,
   "id": "532de36d",
   "metadata": {},
   "outputs": [],
   "source": [
    "#  >> 3. Create function to retuen Mean Absolute Error (MAE) for givem number of leaves -------------------\n",
    "def get_mae(max_leaf_nodes, train_X, val_X, train_y, val_y):\n",
    "    model = DecisionTreeRegressor(max_leaf_nodes=max_leaf_nodes, random_state=0)\n",
    "    model.fit(train_X, train_y)\n",
    "    preds_val = model.predict(val_X)\n",
    "    mae = mean_absolute_error(val_y, preds_val)\n",
    "    return(mae)\n",
    "#  << 3. Create function to retuen Mean Absolute Error (MAE) for givem number of leaves -------------------"
   ]
  },
  {
   "cell_type": "code",
   "execution_count": 9,
   "id": "2d366206",
   "metadata": {},
   "outputs": [],
   "source": [
    "#  >> 4. Create list with number of leaves notes for testing -------------------\n",
    "candidate_max_leaf_nodes =  [x for x in range(2, 200)]\n",
    "#print(candidate_max_leaf_nodes)\n",
    "#  << 4. Create list with number of leaves notes for testing -------------------"
   ]
  },
  {
   "cell_type": "code",
   "execution_count": null,
   "id": "660cabc0",
   "metadata": {},
   "outputs": [],
   "source": [
    "#  >> 5. Find best leaves size -------------------\n",
    "scores = {leaf_size: get_mae(leaf_size, train_X, val_X, train_y, val_y) for leaf_size in candidate_max_leaf_nodes}\n",
    "best_tree_size = min(scores, key=scores.get)\n",
    "\n",
    "#  >> 5. Find best leaves size -------------------"
   ]
  },
  {
   "cell_type": "code",
   "execution_count": null,
   "id": "d3c62766",
   "metadata": {},
   "outputs": [],
   "source": [
    "#  >> 6. Specify and fit the mode  --------------------------------------\n",
    "final_model = DecisionTreeRegressor(max_leaf_nodes=best_tree_size, random_state=1)\n",
    "\n",
    "# fit the final model and uncomment the next two lines\n",
    "final_model.fit(X, y)\n",
    "#  << 6. Specify and fit the mode  --------------------------------------"
   ]
  },
  {
   "cell_type": "code",
   "execution_count": null,
   "id": "354b4b6c",
   "metadata": {},
   "outputs": [],
   "source": [
    "#  >> 7. Predict ------------------------------------------------\n",
    "val_predictions = final_model.predict(val_X)\n",
    "#  >> 7. Predict ------------------------------------------------\n",
    "\n",
    "#  >> 8. calculate mean absolute error --------------------------\n",
    "val_mae = mean_absolute_error(val_predictions, val_y)\n",
    "#  << 8. calculate mean absolute error --------------------------\n",
    "\n",
    "print(\"Validation MAE: {:,.0f}\".format(val_mae))\n"
   ]
  },
  {
   "cell_type": "code",
   "execution_count": null,
   "id": "cd9a1657",
   "metadata": {},
   "outputs": [],
   "source": [
    "print(best_tree_size)"
   ]
  }
 ],
 "metadata": {
  "kernelspec": {
   "display_name": "Python 3",
   "language": "python",
   "name": "python3"
  },
  "language_info": {
   "codemirror_mode": {
    "name": "ipython",
    "version": 3
   },
   "file_extension": ".py",
   "mimetype": "text/x-python",
   "name": "python",
   "nbconvert_exporter": "python",
   "pygments_lexer": "ipython3",
   "version": "3.9.6"
  }
 },
 "nbformat": 4,
 "nbformat_minor": 5
}
